{
 "cells": [
  {
   "cell_type": "code",
   "execution_count": 31,
   "id": "aa5434f1",
   "metadata": {},
   "outputs": [],
   "source": [
    "## Imports\n",
    "import math"
   ]
  },
  {
   "cell_type": "code",
   "execution_count": 225,
   "id": "d63f5f83",
   "metadata": {},
   "outputs": [
    {
     "name": "stdout",
     "output_type": "stream",
     "text": [
      "P(x) = [9, -6, 10, -6, 1]\n",
      "Q(x) = [9, 6, 10, 6, 1]\n",
      "R(x) = [1, -6, 10, -6, 9]\n",
      "S(x) = [1, 6, 10, 6, 9]\n",
      "--------------------\n",
      "['n', 'k', 'B', 'L']\n",
      "--------------------\n",
      "[4, 3, 6, 7.0]\n",
      "[4, 0, 0, 1.0]\n",
      "[4, 3, 6, 1.6666666666666665]\n",
      "[4, 0, 0, 1.0]\n"
     ]
    }
   ],
   "source": [
    "## Teorema de lagrange\n",
    "# x^0 + x^1 + x^2 + ... + x^n \n",
    "P = [9,-6,10,-6,1]\n",
    "Q = [0 for i in P]\n",
    "R = [0 for i in P]\n",
    "S = [0 for i in P]\n",
    "for i in range(len(P)):\n",
    "    R[i] = P[len(P)-i-1]\n",
    "    if i%2 == 1:\n",
    "        Q[i] = -P[i]\n",
    "        S[i] = -R[i]\n",
    "    else:\n",
    "        Q[i] = P[i]\n",
    "        S[i] = R[i]\n",
    "\n",
    "Q = [-Q[i] for i in range(len(Q))] if Q[len(P) - 1] < 0 else Q\n",
    "R = [-R[i] for i in range(len(R))] if R[len(P) - 1] < 0 else R\n",
    "S = [-S[i] for i in range(len(Q))] if S[len(P) - 1] < 0 else S\n",
    "print(f\"P(x) = {P}\")\n",
    "print(f\"Q(x) = {Q}\")\n",
    "print(f\"R(x) = {R}\")\n",
    "print(f\"S(x) = {S}\")\n",
    "\n",
    "def Lagrange(Pol):\n",
    "    n = len(Pol) - 1\n",
    "    k = 0\n",
    "    B = 0\n",
    "    for n,c in enumerate(Pol):\n",
    "        if c < 0:\n",
    "            k = n\n",
    "        if c < B:\n",
    "            B = c\n",
    "    B = abs(B)\n",
    "    L = 1 + (B/Pol[len(Pol)-1])**(1/(n-k))\n",
    "    return [n,k,B,L]\n",
    "var = [\"n\",\"k\",\"B\",\"L\"]\n",
    "print(f\"--------------------\\n{var}\\n--------------------\")\n",
    "print(Lagrange(P))\n",
    "print(Lagrange(Q))\n",
    "print(Lagrange(R))\n",
    "print(Lagrange(S))"
   ]
  },
  {
   "cell_type": "code",
   "execution_count": 245,
   "id": "7ee3997b",
   "metadata": {},
   "outputs": [],
   "source": [
    "## Define the function\n",
    "def f(x):\n",
    "    return math.e**(x)-4*x**2\n",
    "def phi(x):\n",
    "    return math.log(4*x**2)\n",
    "def diff(x):\n",
    "    i = 10**(-11)\n",
    "    return ((f(x+i)-f(x))/i)\n",
    "\n",
    "## Define the breakpoint\n",
    "\n",
    "breakpoint = 10**(-6)\n",
    "gap1 = [-1,0]"
   ]
  },
  {
   "cell_type": "code",
   "execution_count": 246,
   "id": "c8d6c0d9",
   "metadata": {},
   "outputs": [
    {
     "name": "stdout",
     "output_type": "stream",
     "text": [
      "k = 20;\n",
      "xk = -0.4077768325805664;\n",
      "I = [-0.4077768325805664,-0.40777587890625];\n",
      "f(xk) = -4.837545554137179e-07\n"
     ]
    }
   ],
   "source": [
    "## Metodo da Bissecção\n",
    "gap = gap1.copy()\n",
    "xk = gap[0]\n",
    "k = 0\n",
    "    \n",
    "while (abs(gap[1] - gap[0]) >= breakpoint) and (abs(f(xk)) >= breakpoint) and (k < 100):\n",
    "    xk = (gap[1] +gap[0])/2\n",
    "    if f(xk)*f(gap[0]) > 0:\n",
    "        gap[0] = xk\n",
    "    else:\n",
    "        gap[1] = xk\n",
    "    k+=1\n",
    "print(f\"k = {k};\\nxk = {xk};\\nI = [{gap[0]},{gap[1]}];\\nf(xk) = {f(xk)}\")\n",
    "    "
   ]
  },
  {
   "cell_type": "code",
   "execution_count": 247,
   "id": "4f22a141",
   "metadata": {},
   "outputs": [
    {
     "name": "stdout",
     "output_type": "stream",
     "text": [
      "k = 15;\n",
      "xk = -0.40777656873771984;\n",
      "I = [-1,-0.40777656873771984];\n",
      "f(xk) = 5.524462709516342e-07\n"
     ]
    }
   ],
   "source": [
    "## Metodo da Falsa Posição\n",
    "gap = gap1.copy()\n",
    "xk = gap[0]\n",
    "k = 0\n",
    "while (abs(gap[1] - gap[0]) >= breakpoint) and (abs(f(xk)) >= breakpoint) and (k < 100):\n",
    "    xk = (f(gap[1])*gap[0]-f(gap[0])*gap[1])/(f(gap[1])-f(gap[0]))\n",
    "    k+=1\n",
    "    if f(gap[0])*f(xk) > 0:\n",
    "        gap[0] = xk\n",
    "    else:\n",
    "        gap[1] = xk\n",
    "    \n",
    "print(f\"k = {k};\\nxk = {xk};\\nI = [{gap[0]},{gap[1]}];\\nf(xk) = {f(xk)}\")\n",
    "    \n"
   ]
  },
  {
   "cell_type": "code",
   "execution_count": 248,
   "id": "e7e8b6f0",
   "metadata": {},
   "outputs": [
    {
     "name": "stdout",
     "output_type": "stream",
     "text": [
      "Função não convergente\n",
      "k = 0;\n",
      "xk = 1.3862943611198906;\n",
      "phi(xk) = 2.0395628810764523\n"
     ]
    }
   ],
   "source": [
    "## Metodo do Ponto Fixo\n",
    "gap = gap1.copy()\n",
    "xk = gap[0]\n",
    "k = 0\n",
    "while (abs(phi(xk)-xk) >= breakpoint) and (k < 100):\n",
    "    xk = phi(xk)\n",
    "    if f(gap[0])*f(xk) > 0:\n",
    "        gap[0] = xk\n",
    "    else:\n",
    "        gap[1] = xk\n",
    "    if (xk < gap[0] or xk > gap[1]):\n",
    "        print(\"Função não convergente\")\n",
    "        break\n",
    "    k+=1\n",
    "print(f\"k = {k};\\nxk = {xk};\\nphi(xk) = {phi(xk)}\")"
   ]
  },
  {
   "cell_type": "code",
   "execution_count": 249,
   "id": "aa7a1c21",
   "metadata": {},
   "outputs": [
    {
     "name": "stdout",
     "output_type": "stream",
     "text": [
      "k = 4;\n",
      "xk = -0.4077767937068716;\n",
      "f(xk) = -3.310842681125692e-07\n"
     ]
    }
   ],
   "source": [
    "## Metodo de Newton-Raphson\n",
    "\n",
    "gap = gap1.copy()\n",
    "xk = gap[0]\n",
    "k = 0\n",
    "while (abs(f(xk)) >= breakpoint) and (k < 100):\n",
    "    xk = xk-f(xk)/diff(xk)\n",
    "    if f(gap[0])*f(xk) > 0:\n",
    "        gap[0] = xk\n",
    "    else:\n",
    "        gap[1] = xk\n",
    "    if (xk < gap[0] or xk > gap[1]):\n",
    "        print(\"Função não convergente\")\n",
    "        break\n",
    "    k+=1\n",
    "print(f\"k = {k};\\nxk = {xk};\\nf(xk) = {f(xk)}\")"
   ]
  },
  {
   "cell_type": "code",
   "execution_count": 250,
   "id": "ca370150",
   "metadata": {},
   "outputs": [
    {
     "name": "stdout",
     "output_type": "stream",
     "text": [
      "k = 15;\n",
      "xk = -0.40777656873771984;\n",
      "f(xk) = 5.524462709516342e-07\n"
     ]
    }
   ],
   "source": [
    "# Metodo da Secante\n",
    "\n",
    "# gap -- [x_k,x_k+1]  \n",
    "gap = gap1.copy()\n",
    "xk = 0\n",
    "k = 0\n",
    "while (abs(f(gap[1])) >= breakpoint) and (abs(f(gap[0])) >= breakpoint) and (k < 100):\n",
    "    xk = (gap[0]*f(gap[1])-gap[1]*f(gap[0]))/(f(gap[1])-f(gap[0]))\n",
    "    if f(xk) * f(gap[0]) > 0:\n",
    "        gap[0] = xk\n",
    "    else:\n",
    "        gap[1] = xk\n",
    "    if (xk < gap[0] or xk > gap[1]):\n",
    "        print(\"Função não convergente\")\n",
    "        break\n",
    "    k+=1\n",
    "print(f\"k = {k};\\nxk = {xk};\\nf(xk) = {f(xk)}\")"
   ]
  },
  {
   "cell_type": "markdown",
   "id": "48fc5a6d",
   "metadata": {},
   "source": []
  }
 ],
 "metadata": {
  "kernelspec": {
   "display_name": "Python 3 (ipykernel)",
   "language": "python",
   "name": "python3"
  },
  "language_info": {
   "codemirror_mode": {
    "name": "ipython",
    "version": 3
   },
   "file_extension": ".py",
   "mimetype": "text/x-python",
   "name": "python",
   "nbconvert_exporter": "python",
   "pygments_lexer": "ipython3",
   "version": "3.11.5"
  }
 },
 "nbformat": 4,
 "nbformat_minor": 5
}
